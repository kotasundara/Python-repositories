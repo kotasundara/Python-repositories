{
 "cells": [
  {
   "cell_type": "markdown",
   "metadata": {},
   "source": [
    "You are given  words. Some words may repeat. For each word, output its number of occurrences. The output order should correspond with the input order of appearance of the word. See the sample input/output for clarification."
   ]
  },
  {
   "cell_type": "raw",
   "metadata": {},
   "source": [
    "Sample Input\n",
    "4\n",
    "bcdef\n",
    "abcdefg\n",
    "bcde\n",
    "bcdef\n",
    "\n",
    "Sample Output\n",
    "3\n",
    "2 1 1"
   ]
  },
  {
   "cell_type": "code",
   "execution_count": null,
   "metadata": {},
   "outputs": [],
   "source": [
    "n=int(input())"
   ]
  },
  {
   "cell_type": "code",
   "execution_count": null,
   "metadata": {},
   "outputs": [],
   "source": [
    "word_list=[]\n",
    "for i in range(0,n):\n",
    "    word_list.append(input())   \n",
    "    "
   ]
  },
  {
   "cell_type": "code",
   "execution_count": null,
   "metadata": {},
   "outputs": [],
   "source": [
    "from collections import Counter\n",
    "    "
   ]
  },
  {
   "cell_type": "code",
   "execution_count": null,
   "metadata": {},
   "outputs": [],
   "source": [
    " counter=Counter(word_list)"
   ]
  },
  {
   "cell_type": "code",
   "execution_count": null,
   "metadata": {},
   "outputs": [],
   "source": [
    "for i in counter.values():\n",
    "    print(i)"
   ]
  },
  {
   "cell_type": "code",
   "execution_count": null,
   "metadata": {},
   "outputs": [],
   "source": [
    "len(counter)"
   ]
  },
  {
   "cell_type": "raw",
   "metadata": {},
   "source": [
    "\n",
    "\n",
    "Task\n",
    "\n",
    "You are given a space separated list of numbers. \n",
    "Your task is to print a reversed NumPy array with the element type float.\n",
    "\n",
    "Input Format\n",
    "\n",
    "A single line of input containing space separated numbers.\n",
    "\n",
    "Output Format\n",
    "\n",
    "Print the reverse NumPy array with type float.\n",
    "\n",
    "Sample Input\n",
    "\n",
    "1 2 3 4 -8 -10\n",
    "\n",
    "\n",
    "Sample Output\n",
    "\n",
    "[-10.  -8.   4.   3.   2.   1.]\n"
   ]
  },
  {
   "cell_type": "code",
   "execution_count": null,
   "metadata": {},
   "outputs": [],
   "source": [
    "import numpy"
   ]
  },
  {
   "cell_type": "code",
   "execution_count": null,
   "metadata": {},
   "outputs": [],
   "source": [
    "def arrays(arr):\n",
    "    arr=list(map(int,arr))   \n",
    "    arr.reverse()\n",
    "    return(list(map(float,arr)))\n",
    "    \n",
    "       \n",
    "\n",
    "arr = input().strip().split(' ')\n",
    "result = arrays(arr)\n",
    "print(result)"
   ]
  },
  {
   "cell_type": "raw",
   "metadata": {},
   "source": [
    "You are given a spreadsheet that contains a list of  athletes and their details (such as age, height, weight and so on). You are required to sort the data based on the th attribute and print the final resulting table. Follow the example given below for better understanding.\n",
    "\n",
    "image\n",
    "\n",
    "Note that  is indexed from  to , where  is the number of attributes.\n",
    "\n",
    "Note: If two attributes are the same for different rows, for example, if two atheletes are of the same age, print the row that appeared first in the input.\n",
    "\n",
    "Input Format\n",
    "\n",
    "The first line contains  and  separated by a space. \n",
    "The next  lines each contain  elements. \n",
    "The last line contains .\n",
    "\n",
    "Sample Input 0\n",
    "\n",
    "5 3\n",
    "10 2 5\n",
    "7 1 0\n",
    "9 9 9\n",
    "1 23 12\n",
    "6 5 9\n",
    "1\n",
    "Sample Output 0\n",
    "\n",
    "7 1 0\n",
    "10 2 5\n",
    "6 5 9\n",
    "9 9 9\n",
    "1 23 12"
   ]
  },
  {
   "cell_type": "code",
   "execution_count": null,
   "metadata": {},
   "outputs": [],
   "source": [
    "import math\n",
    "import os\n",
    "import random\n",
    "import re\n",
    "import sys\n",
    "\n",
    "if __name__ == '__main__':\n",
    "    nm = input().split()\n",
    "    n = int(nm[0])\n",
    "    m = int(nm[1])\n",
    "    arr = []\n",
    "    for _ in range(n):\n",
    "        arr.append(list(map(int, input().rstrip().split())))\n",
    "    k = int(input())"
   ]
  },
  {
   "cell_type": "code",
   "execution_count": null,
   "metadata": {},
   "outputs": [],
   "source": [
    "arr"
   ]
  },
  {
   "cell_type": "code",
   "execution_count": null,
   "metadata": {},
   "outputs": [],
   "source": [
    "arr.sort(key=lambda x:x[k])"
   ]
  },
  {
   "cell_type": "code",
   "execution_count": null,
   "metadata": {},
   "outputs": [],
   "source": [
    "for item in arr:\n",
    "    for i in item:\n",
    "        print(i,end=\" \") \n",
    "    print()\n",
    "    "
   ]
  },
  {
   "cell_type": "raw",
   "metadata": {},
   "source": [
    "You are given a string . \n",
    " contains alphanumeric characters only. \n",
    "Your task is to sort the string  in the following manner:\n",
    "\n",
    "All sorted lowercase letters are ahead of uppercase letters.\n",
    "All sorted uppercase letters are ahead of digits.\n",
    "All sorted odd digits are ahead of sorted even digits.\n",
    "\n",
    "Sample Input\n",
    "Sorting1234\n",
    "\n",
    "Sample Output\n",
    "ginortS1324"
   ]
  },
  {
   "cell_type": "code",
   "execution_count": null,
   "metadata": {},
   "outputs": [],
   "source": [
    "lowercase=[]\n",
    "uppercase=[]\n",
    "even_digits=[]\n",
    "odd_digits=[]\n",
    "\n",
    "\n"
   ]
  },
  {
   "cell_type": "code",
   "execution_count": null,
   "metadata": {},
   "outputs": [],
   "source": [
    "#enter the string to be sorted in the above order\n",
    "s=input()"
   ]
  },
  {
   "cell_type": "code",
   "execution_count": null,
   "metadata": {},
   "outputs": [],
   "source": [
    "for c in s:\n",
    "    if c.islower():\n",
    "        lowercase.append(c)\n",
    "    elif c.isupper():\n",
    "        uppercase.append(c)\n",
    "    elif c.isdigit() and int(c)%2==0:\n",
    "        even_digits.append(c)\n",
    "    else:\n",
    "        odd_digits.append(c)\n",
    "    \n",
    "    "
   ]
  },
  {
   "cell_type": "code",
   "execution_count": null,
   "metadata": {},
   "outputs": [],
   "source": [
    "print(lowercase)\n",
    "print(uppercase)\n",
    "print(even_digits)\n",
    "print(odd_digits)"
   ]
  },
  {
   "cell_type": "code",
   "execution_count": null,
   "metadata": {},
   "outputs": [],
   "source": [
    "\"\".join(lowercase+uppercase+odd_digits+even_digits)"
   ]
  },
  {
   "cell_type": "raw",
   "metadata": {},
   "source": [
    "A newly opened multinational brand has decided to base their company logo on the three most common characters in the company name. They are now trying out various combinations of company names and logos based on this condition. Given a string , which is the company name in lowercase letters, your task is to find the top three most common characters in the string.\n",
    "\n",
    "Print the three most common characters along with their occurrence count.\n",
    "Sort in descending order of occurrence count.\n",
    "If the occurrence count is the same, sort the characters in alphabetical order.\n",
    "For example, according to the conditions described above,\n",
    "\n",
    " would have it's logo with the letters "
   ]
  },
  {
   "cell_type": "raw",
   "metadata": {},
   "source": [
    "Input Format\n",
    "\n",
    "A single line of input containing the string .\n",
    "\n",
    "Constraints\n",
    "\n",
    "Output Format\n",
    "\n",
    "Print the three most common characters along with their occurrence count each on a separate line. \n",
    "Sort output in descending order of occurrence count. \n",
    "If the occurrence count is the same, sort the characters in alphabetical order.\n",
    "\n",
    "Sample Input 0\n",
    "aabbbccde\n",
    "\n",
    "Sample Output 0\n",
    "\n",
    "b 3\n",
    "a 2\n",
    "c 2"
   ]
  },
  {
   "cell_type": "code",
   "execution_count": null,
   "metadata": {},
   "outputs": [],
   "source": [
    "if __name__ == '__main__':\n",
    "    s = input()"
   ]
  },
  {
   "cell_type": "code",
   "execution_count": null,
   "metadata": {},
   "outputs": [],
   "source": [
    "from collections import Counter"
   ]
  },
  {
   "cell_type": "code",
   "execution_count": null,
   "metadata": {},
   "outputs": [],
   "source": [
    "counter=Counter(sorted(s))\n",
    "counter"
   ]
  },
  {
   "cell_type": "code",
   "execution_count": null,
   "metadata": {},
   "outputs": [],
   "source": [
    "top3_common=counter.most_common(3)"
   ]
  },
  {
   "cell_type": "code",
   "execution_count": null,
   "metadata": {},
   "outputs": [],
   "source": [
    "for x,y in top3_common:\n",
    "    print(x,y)"
   ]
  },
  {
   "cell_type": "code",
   "execution_count": null,
   "metadata": {},
   "outputs": [],
   "source": [
    "    "
   ]
  },
  {
   "cell_type": "code",
   "execution_count": null,
   "metadata": {},
   "outputs": [],
   "source": [
    "x = [\n",
    " ['4', '21', '1', '14', '2008-10-24 15:42:58'], \n",
    " ['3', '22', '4', '2somename', '2008-10-24 15:22:03'], \n",
    " ['5', '21', '3', '19', '2008-10-24 15:45:45'], \n",
    " ['6', '21', '1', '1somename', '2008-10-24 15:45:49'], \n",
    " ['7', '22', '3', '2somename', '2008-10-24 15:45:51']\n",
    "]"
   ]
  },
  {
   "cell_type": "code",
   "execution_count": null,
   "metadata": {},
   "outputs": [],
   "source": [
    "from operator import itemgetter\n",
    "x.sort(key=itemgetter(1))"
   ]
  },
  {
   "cell_type": "code",
   "execution_count": null,
   "metadata": {},
   "outputs": [],
   "source": [
    "x"
   ]
  },
  {
   "cell_type": "code",
   "execution_count": null,
   "metadata": {},
   "outputs": [],
   "source": [
    "import operator\n",
    "\n",
    "def person_lister(f):\n",
    "    def inner(people):        \n",
    "        return([person for person in sorted(people,key=lambda item:int(item[2]))])       \n",
    "        \n",
    "\n",
    "@person_lister\n",
    "def name_format(person):\n",
    "    return (\"Mr. \" if person[3] == \"M\" else \"Ms. \") + person[0] + \" \" + person[1]\n",
    "\n",
    "if __name__ == '__main__':\n",
    "    people = [input().split() for i in range(int(input()))]\n",
    "    print(people)\n",
    "    print(name_format(people), sep='\\n')"
   ]
  },
  {
   "cell_type": "markdown",
   "metadata": {},
   "source": [
    "In this challenge, you will be given  integers,  and . There are  words, which might repeat, in word group . There are words belonging to word group . For each  words, check whether the word has appeared in group  or not. Print the indices of each occurrence of  in group . If it does not appear, print ."
   ]
  },
  {
   "cell_type": "code",
   "execution_count": 9,
   "metadata": {},
   "outputs": [
    {
     "name": "stdout",
     "output_type": "stream",
     "text": [
      "5 2\n"
     ]
    }
   ],
   "source": [
    "n,m=input().split()"
   ]
  },
  {
   "cell_type": "code",
   "execution_count": 10,
   "metadata": {},
   "outputs": [],
   "source": [
    "n=int(n)\n",
    "m=int(m)"
   ]
  },
  {
   "cell_type": "code",
   "execution_count": 14,
   "metadata": {},
   "outputs": [
    {
     "name": "stdout",
     "output_type": "stream",
     "text": [
      "a\n",
      "a\n",
      "b\n",
      "a\n",
      "b\n"
     ]
    }
   ],
   "source": [
    "list_to_search=[]\n",
    "for i in range(1,n+1):\n",
    "    list_to_search.append(input())  \n",
    "    "
   ]
  },
  {
   "cell_type": "code",
   "execution_count": 15,
   "metadata": {},
   "outputs": [
    {
     "name": "stdout",
     "output_type": "stream",
     "text": [
      "a\n",
      "b\n"
     ]
    }
   ],
   "source": [
    "list_target=[]\n",
    "for i in range(1,m+1):\n",
    "    list_target.append(input())  "
   ]
  },
  {
   "cell_type": "code",
   "execution_count": 16,
   "metadata": {},
   "outputs": [
    {
     "name": "stdout",
     "output_type": "stream",
     "text": [
      "['a', 'a', 'b', 'a', 'b']\n",
      "['a', 'b']\n"
     ]
    }
   ],
   "source": [
    "print(list_to_search)\n",
    "print(list_target)"
   ]
  },
  {
   "cell_type": "code",
   "execution_count": 30,
   "metadata": {},
   "outputs": [
    {
     "name": "stdout",
     "output_type": "stream",
     "text": [
      "1 2 4 \n",
      "3 5 \n"
     ]
    }
   ],
   "source": [
    "for word1 in list_target:\n",
    "    cnt=list_to_search.count(word1)\n",
    "    if cnt==0:\n",
    "        print(-1)\n",
    "    else:        \n",
    "        start=0        \n",
    "        for i in range(1,cnt+1):            \n",
    "            pos=list_to_search.index(word1,start)\n",
    "            print(pos+1,end=\" \")\n",
    "            start=pos+1\n",
    "    print()\n",
    "            \n",
    "        \n",
    "        \n",
    "    \n",
    "    \n",
    "        \n",
    "            \n",
    "    \n",
    "        \n",
    "        \n",
    "\n",
    "   \n",
    "        "
   ]
  },
  {
   "cell_type": "code",
   "execution_count": 35,
   "metadata": {},
   "outputs": [
    {
     "name": "stdout",
     "output_type": "stream",
     "text": [
      "5 2\n"
     ]
    }
   ],
   "source": [
    "# How about this solution using defaultdict\n",
    "from collections import defaultdict\n",
    "d, n = defaultdict(list), list(map(int, input().split()))"
   ]
  },
  {
   "cell_type": "code",
   "execution_count": 36,
   "metadata": {},
   "outputs": [
    {
     "name": "stdout",
     "output_type": "stream",
     "text": [
      "a\n",
      "a\n",
      "b\n",
      "a\n",
      "b\n"
     ]
    }
   ],
   "source": [
    "for i in range(0,n[0]):\n",
    "    d[input()].append(i+1)"
   ]
  },
  {
   "cell_type": "code",
   "execution_count": 37,
   "metadata": {},
   "outputs": [
    {
     "data": {
      "text/plain": [
       "defaultdict(list, {'a': [1, 2, 4], 'b': [3, 5]})"
      ]
     },
     "execution_count": 37,
     "metadata": {},
     "output_type": "execute_result"
    }
   ],
   "source": [
    "d"
   ]
  },
  {
   "cell_type": "code",
   "execution_count": 47,
   "metadata": {},
   "outputs": [
    {
     "name": "stdout",
     "output_type": "stream",
     "text": [
      "a\n",
      "1 2 4\n",
      "c\n",
      "-1\n"
     ]
    }
   ],
   "source": [
    "for i in range(0,n[1]):\n",
    "    l=d.get(input())\n",
    "    if l==[]:\n",
    "        print(-1)\n",
    "    else:\n",
    "        print(*l)\n",
    "\n",
    "    \n",
    "    \n",
    "    "
   ]
  },
  {
   "cell_type": "code",
   "execution_count": 45,
   "metadata": {},
   "outputs": [
    {
     "data": {
      "text/plain": [
       "[]"
      ]
     },
     "execution_count": 45,
     "metadata": {},
     "output_type": "execute_result"
    }
   ],
   "source": [
    "d.get(\"c\")"
   ]
  },
  {
   "cell_type": "code",
   "execution_count": 44,
   "metadata": {},
   "outputs": [
    {
     "data": {
      "text/plain": [
       "collections.defaultdict"
      ]
     },
     "execution_count": 44,
     "metadata": {},
     "output_type": "execute_result"
    }
   ],
   "source": [
    "type(d)"
   ]
  },
  {
   "cell_type": "markdown",
   "metadata": {},
   "source": [
    "Named Tuples:\n",
    "Task\n",
    "\n",
    "Dr. John Wesley has a spreadsheet containing a list of student's , ,  and .\n",
    "\n",
    "Your task is to help Dr. Wesley calculate the average marks of the students.\n",
    "\n",
    "\n",
    "Note: \n",
    "1. Columns can be in any order. IDs, marks, class and name can be written in any order in the spreadsheet. \n",
    "2. Column names are ID, MARKS, CLASS and NAME. (The spelling and case type of these names won't change.)"
   ]
  },
  {
   "cell_type": "code",
   "execution_count": 10,
   "metadata": {},
   "outputs": [],
   "source": [
    "from collections import namedtuple"
   ]
  },
  {
   "cell_type": "code",
   "execution_count": 11,
   "metadata": {},
   "outputs": [],
   "source": [
    "Student=namedtuple(\"Student\",[\"ID\",\"MARKS\",\"NAME\",\"CLASS\"])"
   ]
  },
  {
   "cell_type": "code",
   "execution_count": 12,
   "metadata": {},
   "outputs": [
    {
     "name": "stdout",
     "output_type": "stream",
     "text": [
      "5\n",
      "MARKS      CLASS      NAME       ID\n"
     ]
    }
   ],
   "source": [
    "N=int(input()) # Total number of Students\n",
    "columns=input().split()   # names of columns in any order"
   ]
  },
  {
   "cell_type": "code",
   "execution_count": 13,
   "metadata": {},
   "outputs": [
    {
     "name": "stdout",
     "output_type": "stream",
     "text": [
      "92         2          Calum      1\n",
      "0\n",
      "MARKS\n",
      "1\n",
      "CLASS\n",
      "2\n",
      "NAME\n",
      "3\n",
      "ID\n",
      "82         5          Scott      2\n",
      "0\n",
      "MARKS\n",
      "1\n",
      "CLASS\n",
      "2\n",
      "NAME\n",
      "3\n",
      "ID\n",
      "94         2          Jason      3\n",
      "0\n",
      "MARKS\n",
      "1\n",
      "CLASS\n",
      "2\n",
      "NAME\n",
      "3\n",
      "ID\n",
      "55         8          Glenn      4\n",
      "0\n",
      "MARKS\n",
      "1\n",
      "CLASS\n",
      "2\n",
      "NAME\n",
      "3\n",
      "ID\n",
      "82         2          Fergus     5\n",
      "0\n",
      "MARKS\n",
      "1\n",
      "CLASS\n",
      "2\n",
      "NAME\n",
      "3\n",
      "ID\n",
      "81.0\n"
     ]
    }
   ],
   "source": [
    "sum=0.0\n",
    "for i in range(0,N):\n",
    "    input_row=input().split()  #Enter ID, MARKS, NAME, CLASS in any order \n",
    "    for index,col in enumerate(columns):\n",
    "        print(index)\n",
    "        print(col)\n",
    "        Student.col=input_row[index]\n",
    "        \n",
    "        if col==\"MARKS\":            \n",
    "            sum=sum+float(input_row[index])\n",
    "print(sum/N)\n",
    "\n",
    "\n",
    "        \n",
    "        \n",
    "    \n",
    "        \n",
    "        \n",
    "        \n",
    "        \n",
    "                "
   ]
  },
  {
   "cell_type": "code",
   "execution_count": 14,
   "metadata": {},
   "outputs": [
    {
     "name": "stdout",
     "output_type": "stream",
     "text": [
      "81.00\n"
     ]
    }
   ],
   "source": [
    "print(\"{:0.2f}\".format(sum/N))"
   ]
  },
  {
   "cell_type": "raw",
   "metadata": {},
   "source": [
    "#Another way of solving it:"
   ]
  },
  {
   "cell_type": "code",
   "execution_count": 17,
   "metadata": {},
   "outputs": [
    {
     "name": "stdout",
     "output_type": "stream",
     "text": [
      "5\n",
      "ID         MARKS      NAME       CLASS\n",
      "1          97         Raymond    7 \n",
      "2          50         Steven     4 \n",
      "3          91         Adrian     9\n",
      "4          72         Stewart    5 \n",
      "5          80         Peter      6\n",
      "78.00\n"
     ]
    }
   ],
   "source": [
    "from collections import namedtuple\n",
    "\n",
    "N = int(input())\n",
    "fields = input().split()\n",
    "\n",
    "total = 0\n",
    "for i in range(N):\n",
    "    students = namedtuple('student',fields)\n",
    "    field1, field2, field3,field4 = input().split()\n",
    "    student = students(field1,field2,field3,field4)\n",
    "    total += int(student.MARKS)\n",
    "print('{:.2f}'.format(total/N))"
   ]
  },
  {
   "cell_type": "markdown",
   "metadata": {},
   "source": [
    "# named tuple practice examples"
   ]
  },
  {
   "cell_type": "code",
   "execution_count": 19,
   "metadata": {},
   "outputs": [],
   "source": [
    "# Declaring namedtuple() \n",
    "Student = namedtuple('Student',['name','age','DOB'])"
   ]
  },
  {
   "cell_type": "code",
   "execution_count": 21,
   "metadata": {},
   "outputs": [],
   "source": [
    "S = Student('Nandini','19','2541997') "
   ]
  },
  {
   "cell_type": "code",
   "execution_count": 33,
   "metadata": {},
   "outputs": [
    {
     "data": {
      "text/plain": [
       "'19'"
      ]
     },
     "execution_count": 33,
     "metadata": {},
     "output_type": "execute_result"
    }
   ],
   "source": [
    "getattr(S,\"age\")"
   ]
  },
  {
   "cell_type": "code",
   "execution_count": 36,
   "metadata": {},
   "outputs": [
    {
     "name": "stdout",
     "output_type": "stream",
     "text": [
      "The namedtuple instance using iterable is  : \n",
      "Student(name='Manjeet', age='19', DOB='411997')\n"
     ]
    }
   ],
   "source": [
    "# Declaring namedtuple() \n",
    "Student = namedtuple('Student',['name','age','DOB']) \n",
    "  \n",
    "# Adding values \n",
    "S = Student('Nandini','19','2541997') \n",
    "  \n",
    "# initializing iterable  \n",
    "li = ['Manjeet', '19', '411997' ] \n",
    "  \n",
    "# initializing dict \n",
    "di = { 'name' : \"Nikhil\", 'age' : 19 , 'DOB' : '1391997' } \n",
    "  \n",
    "# using _make() to return namedtuple() \n",
    "print (\"The namedtuple instance using iterable is  : \") \n",
    "print (Student._make(li)) "
   ]
  },
  {
   "cell_type": "code",
   "execution_count": 37,
   "metadata": {},
   "outputs": [
    {
     "name": "stdout",
     "output_type": "stream",
     "text": [
      "The OrderedDict instance using namedtuple is  : \n",
      "OrderedDict([('name', 'Nandini'), ('age', '19'), ('DOB', '2541997')])\n",
      "The namedtuple instance from dict is  : \n",
      "Student(name='Nikhil', age=19, DOB='1391997')\n"
     ]
    }
   ],
   "source": [
    "# using _asdict() to return an OrderedDict() \n",
    "print (\"The OrderedDict instance using namedtuple is  : \") \n",
    "print (S._asdict()) \n",
    "  \n",
    "# using ** operator to return namedtuple from dictionary \n",
    "print (\"The namedtuple instance from dict is  : \") \n",
    "print (Student(**di)) "
   ]
  },
  {
   "cell_type": "code",
   "execution_count": 38,
   "metadata": {},
   "outputs": [],
   "source": [
    "# Declaring namedtuple() \n",
    "Student = namedtuple('Student',['name','age','DOB']) \n",
    "  \n",
    "# Adding values \n",
    "S = Student('Nandini','19','2541997') "
   ]
  },
  {
   "cell_type": "code",
   "execution_count": 39,
   "metadata": {},
   "outputs": [
    {
     "data": {
      "text/plain": [
       "('name', 'age', 'DOB')"
      ]
     },
     "execution_count": 39,
     "metadata": {},
     "output_type": "execute_result"
    }
   ],
   "source": [
    "S._fields"
   ]
  },
  {
   "cell_type": "code",
   "execution_count": 40,
   "metadata": {},
   "outputs": [
    {
     "data": {
      "text/plain": [
       "Student(name='Sundar', age='19', DOB='2541997')"
      ]
     },
     "execution_count": 40,
     "metadata": {},
     "output_type": "execute_result"
    }
   ],
   "source": [
    "S._replace(name=\"Sundar\")"
   ]
  },
  {
   "cell_type": "markdown",
   "metadata": {},
   "source": [
    "# Task\n",
    "\n",
    "##You are the manager of a supermarket. \n",
    "##You have a list of  items together with their prices that consumers bought on a particular day. \n",
    "##Your task is to print each item_name and net_price in order of its first occurrence.\n",
    "\n",
    "##item_name = Name of the item. \n",
    "##net_price = Quantity of the item sold multiplied by the price of each item.\n",
    "\n",
    "nput Format\n",
    "\n",
    "The first line contains the number of items, . \n",
    "The next  lines contains the item's name and price, separated by a space.\n",
    "\n",
    "Output Format\n",
    "\n",
    "Print the item_name and net_price in order of its first occurrence."
   ]
  },
  {
   "cell_type": "code",
   "execution_count": 41,
   "metadata": {},
   "outputs": [],
   "source": [
    "from collections import OrderedDict"
   ]
  },
  {
   "cell_type": "code",
   "execution_count": 70,
   "metadata": {},
   "outputs": [],
   "source": [
    "o=OrderedDict()"
   ]
  },
  {
   "cell_type": "code",
   "execution_count": 106,
   "metadata": {},
   "outputs": [
    {
     "name": "stdout",
     "output_type": "stream",
     "text": [
      "9\n"
     ]
    }
   ],
   "source": [
    "N=int(input())   #number of items"
   ]
  },
  {
   "cell_type": "code",
   "execution_count": 107,
   "metadata": {},
   "outputs": [
    {
     "name": "stdout",
     "output_type": "stream",
     "text": [
      "BANANA FRIES 12\n",
      "POTATO CHIPS 30\n",
      "APPLE JUICE 10\n",
      "CANDY 5\n",
      "APPLE JUICE 10\n",
      "CANDY 5\n",
      "CANDY 5\n",
      "CANDY 5\n",
      "POTATO CHIPS 30\n"
     ]
    }
   ],
   "source": [
    "for i in range(0,N):    \n",
    "    item_list=input().split()\n",
    "    item_list_name=\" \".join(item_list[:len(item_list)-1])\n",
    "    price=item_list[len(item_list)-1]\n",
    "    price=int(price)\n",
    "    if o.get(item_list_name)==None:\n",
    "        o[item_list_name]=price\n",
    "    else:\n",
    "        o[item_list_name]=o[item_list_name]+price"
   ]
  },
  {
   "cell_type": "code",
   "execution_count": 108,
   "metadata": {},
   "outputs": [
    {
     "name": "stdout",
     "output_type": "stream",
     "text": [
      "BANANAFRIES 36.0\n",
      "POTATOCHIPS 60.0\n",
      "APPLEJUICE 20.0\n",
      "CANDY 20.0\n"
     ]
    }
   ],
   "source": [
    "for key,value in o.items():\n",
    "    print(key,value)"
   ]
  },
  {
   "cell_type": "raw",
   "metadata": {},
   "source": [
    "# Sample Input\n",
    "3\n",
    "1 0\n",
    "2 $\n",
    "3 1\n",
    "\n",
    "Sample Output\n",
    "Error Code: integer division or modulo by zero\n",
    "Error Code: invalid literal for int() with base 10: '$'\n",
    "3\n",
    "\n"
   ]
  },
  {
   "cell_type": "code",
   "execution_count": 7,
   "metadata": {},
   "outputs": [
    {
     "name": "stdout",
     "output_type": "stream",
     "text": [
      "3\n",
      "1 0\n",
      "Error Code: integer division or modulo by zero\n",
      "2 $\n",
      "Error Code: invalid literal for int() with base 10: '$'\n",
      "3 1\n",
      "3\n"
     ]
    }
   ],
   "source": [
    "n=int(input()) #number of test cases\n",
    "for i in range(0,n):\n",
    "    a,b=input().split()\n",
    "    try:\n",
    "        result=int(a)//int(b)\n",
    "        print(result)\n",
    "    except Exception as e:\n",
    "        print(\"Error Code:\",e)  \n",
    "        "
   ]
  },
  {
   "cell_type": "markdown",
   "metadata": {},
   "source": [
    "# Re.findall() & Re.finditer()"
   ]
  },
  {
   "cell_type": "code",
   "execution_count": 39,
   "metadata": {},
   "outputs": [],
   "source": [
    "VOWELS = '[aeiou]'\n",
    "CONSONANTS = '[bcdfghjklmnpqrstvwxyz]'\n",
    "REGEX = '(?<=' + CONSONANTS +')(' + VOWELS + '{2,})' + CONSONANTS"
   ]
  },
  {
   "cell_type": "code",
   "execution_count": 42,
   "metadata": {},
   "outputs": [],
   "source": [
    "results=re.findall(pattern=REGEX,string=\"rabcdeefgyYhFjkIoomnpOeorteeeeet\",flags=re.I)"
   ]
  },
  {
   "cell_type": "code",
   "execution_count": 43,
   "metadata": {},
   "outputs": [
    {
     "name": "stdout",
     "output_type": "stream",
     "text": [
      "['ee', 'Ioo', 'Oeo', 'eeeee']\n"
     ]
    }
   ],
   "source": [
    "print(results)"
   ]
  },
  {
   "cell_type": "code",
   "execution_count": 44,
   "metadata": {},
   "outputs": [
    {
     "data": {
      "text/plain": [
       "'(?<=[bcdfghjklmnpqrstvwxyz])([aeiou]{2,})[bcdfghjklmnpqrstvwxyz]'"
      ]
     },
     "execution_count": 44,
     "metadata": {},
     "output_type": "execute_result"
    }
   ],
   "source": [
    "REGEX"
   ]
  },
  {
   "cell_type": "code",
   "execution_count": null,
   "metadata": {},
   "outputs": [],
   "source": []
  }
 ],
 "metadata": {
  "kernelspec": {
   "display_name": "Python 3",
   "language": "python",
   "name": "python3"
  },
  "language_info": {
   "codemirror_mode": {
    "name": "ipython",
    "version": 3
   },
   "file_extension": ".py",
   "mimetype": "text/x-python",
   "name": "python",
   "nbconvert_exporter": "python",
   "pygments_lexer": "ipython3",
   "version": "3.6.5"
  }
 },
 "nbformat": 4,
 "nbformat_minor": 2
}
